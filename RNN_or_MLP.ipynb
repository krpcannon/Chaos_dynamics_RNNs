{
 "cells": [
  {
   "cell_type": "code",
   "execution_count": null,
   "id": "3d6505cd-fd75-4cc2-bbd8-57848046671a",
   "metadata": {},
   "outputs": [],
   "source": [
    "from keras.models import Sequential\n",
    "from keras.layers import Dense, LSTM\n",
    "\n",
    "def create_model(model_type, input_shape, output_shape, num_units, num_layers):\n",
    "    \"\"\"\n",
    "    Create a neural network model using Keras.\n",
    "\n",
    "    Parameters:\n",
    "        model_type (str): Type of model to create, either 'mlp' for a multilayer perceptron\n",
    "                          or 'rnn_lstm' for a recurrent neural network with LSTM layers.\n",
    "        input_shape (tuple): Shape of the input data.\n",
    "        output_shape (int): Shape of the output data.\n",
    "        num_units (int): Number of units/neurons in each layer.\n",
    "        num_layers (int): Number of layers in the model.\n",
    "\n",
    "    Returns:\n",
    "        model: Keras model object.\n",
    "    \"\"\"\n",
    "    model = Sequential()\n",
    "\n",
    "    if model_type == 'mlp':\n",
    "        # Add input layer\n",
    "        model.add(Dense(units=num_units, input_shape=input_shape, activation='relu'))\n",
    "        \n",
    "        # Add hidden layers\n",
    "        for _ in range(num_layers - 1):\n",
    "            model.add(Dense(units=num_units, activation='relu'))\n",
    "        \n",
    "        # Add output layer\n",
    "        model.add(Dense(units=output_shape, activation='softmax'))\n",
    "\n",
    "    elif model_type == 'rnn_lstm':\n",
    "        # Add LSTM layers\n",
    "        for i in range(num_layers):\n",
    "            if i == 0:\n",
    "                model.add(LSTM(units=num_units, return_sequences=True, input_shape=input_shape))\n",
    "            elif i == num_layers - 1:\n",
    "                model.add(LSTM(units=num_units))\n",
    "            else:\n",
    "                model.add(LSTM(units=num_units, return_sequences=True))\n",
    "        \n",
    "        # Add output layer\n",
    "        model.add(Dense(units=output_shape, activation='softmax'))\n",
    "\n",
    "    else:\n",
    "        raise ValueError(\"Invalid model type. Please choose either 'mlp' or 'rnn_lstm'.\")\n",
    "\n",
    "    return model\n",
    "\n",
    "# Example usage:\n",
    "# Create a multilayer perceptron (MLP) model\n",
    "mlp_model = create_model('mlp', input_shape=(input_dim,), output_shape=output_dim, num_units=64, num_layers=3)\n",
    "\n",
    "# Create an RNN with LSTM layers model\n",
    "rnn_lstm_model = create_model('rnn_lstm', input_shape=(timesteps, input_dim), output_shape=output_dim, num_units=64, num_layers=2)\n"
   ]
  }
 ],
 "metadata": {
  "kernelspec": {
   "display_name": "Python 3 (ipykernel)",
   "language": "python",
   "name": "python3"
  },
  "language_info": {
   "codemirror_mode": {
    "name": "ipython",
    "version": 3
   },
   "file_extension": ".py",
   "mimetype": "text/x-python",
   "name": "python",
   "nbconvert_exporter": "python",
   "pygments_lexer": "ipython3",
   "version": "3.11.7"
  }
 },
 "nbformat": 4,
 "nbformat_minor": 5
}
